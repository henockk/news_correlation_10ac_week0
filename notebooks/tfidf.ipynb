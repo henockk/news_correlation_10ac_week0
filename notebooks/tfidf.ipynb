{
 "cells": [
  {
   "cell_type": "code",
   "execution_count": null,
   "metadata": {},
   "outputs": [],
   "source": [
    "import os\n",
    "import pandas as pd\n",
    "from sklearn.feature_extraction.text import TfidfVectorizer\n",
    "\n",
    "# Get the parent directory\n",
    "parent_dir = os.path.dirname(os.getcwd())  # One level up from the current working directory\n",
    "\n",
    "# Specify the path to the CSV files\n",
    "rating_csv_path = os.path.join(parent_dir, 'dataset', 'rating.csv')\n",
    "\n",
    "\n",
    "# Load the data\n",
    "rating_df = pd.read_csv(rating_csv_path)\n",
    "\n",
    "\n",
    "\n",
    "# Tokenization and TF-IDF vectorization\n",
    "tfidf_vectorizer = TfidfVectorizer(max_features=1000)  # You can adjust max_features as needed\n",
    "tfidf_matrix = tfidf_vectorizer.fit_transform(data['article'])\n",
    "\n",
    "# Get feature names (words or phrases)\n",
    "feature_names = tfidf_vectorizer.get_feature_names_out()\n",
    "\n",
    "# Find top keywords for each document\n",
    "keywords = []\n",
    "for i, row in enumerate(tfidf_matrix):\n",
    "    doc_keywords = [feature_names[idx] for idx in row.indices]\n",
    "    keywords.append(doc_keywords)\n",
    "\n",
    "# Display keywords for each document\n",
    "for i, doc_keywords in enumerate(keywords):\n",
    "    print(f\"Keywords for Document {i+1}: {', '.join(doc_keywords)}\")"
   ]
  }
 ],
 "metadata": {
  "language_info": {
   "name": "python"
  }
 },
 "nbformat": 4,
 "nbformat_minor": 2
}
