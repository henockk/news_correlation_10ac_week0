{
 "cells": [
  {
   "cell_type": "code",
   "execution_count": 2,
   "metadata": {},
   "outputs": [],
   "source": [
    "import os\n",
    "import pandas as pd\n",
    "\n",
    "# Get the parent directory\n",
    "parent_dir = os.path.dirname(os.getcwd())  # One level up from the current working directory\n",
    "\n",
    "# Specify the path to the CSV files\n",
    "rating_csv_path = os.path.join(parent_dir, 'dataset', 'rating.csv')\n",
    "domains_location_csv_path = os.path.join(parent_dir, 'dataset', 'domains_location.csv')\n",
    "traffic_csv_path = os.path.join(parent_dir, 'dataset', 'traffic.csv')\n",
    "\n",
    "# Load the data\n",
    "rating_df = pd.read_csv(rating_csv_path)\n",
    "domains_location_df = pd.read_csv(domains_location_csv_path)\n",
    "traffic_df = pd.read_csv(traffic_csv_path)"
   ]
  },
  {
   "cell_type": "code",
   "execution_count": null,
   "metadata": {},
   "outputs": [],
   "source": [
    "# Get the current working directory\n",
    "current_dir = os.getcwd()\n",
    "\n",
    "# Specify the path to the CSV file\n",
    "csv_file_path = os.path.join(current_dir, '..', 'dataset', 'rating.csv')\n",
    "\n",
    "# Read the CSV file into a DataFrame\n",
    "df = pd.read_csv(csv_file_path)\n",
    "\n",
    "# Display the DataFrame\n",
    "df"
   ]
  },
  {
   "cell_type": "code",
   "execution_count": 17,
   "metadata": {},
   "outputs": [],
   "source": [
    "# Count articles per website and get unique article_ids\n",
    "articles_per_website = rating_df.groupby('source_name')['article_id'].agg(['count', 'nunique'])\n",
    "\n",
    "# Rename the columns for clarity\n",
    "articles_per_website.columns = ['article_count', 'unique_article_count']\n",
    "\n",
    "# Sort the DataFrame by article_count in descending order\n",
    "articles_per_website_sorted = articles_per_website.sort_values(by='article_count', ascending=False)\n",
    "\n",
    "# Top 10\n",
    "top_10 = articles_per_website_sorted.head(10)\n",
    "\n",
    "# Bottom 10\n",
    "bottom_10 = articles_per_website_sorted.tail(10)"
   ]
  },
  {
   "cell_type": "code",
   "execution_count": 3,
   "metadata": {},
   "outputs": [],
   "source": [
    "# Merge traffic data with articles data\n",
    "merged_data = pd.merge(rating_df, traffic_df, left_on='source_name', right_on='Domain')\n",
    "\n",
    "# Websites with highest traffic\n",
    "highest_traffic_websites = merged_data.groupby('source_name')['GlobalRank'].max().sort_values(ascending=False).head(10)"
   ]
  }
 ],
 "metadata": {
  "kernelspec": {
   "display_name": "base",
   "language": "python",
   "name": "python3"
  },
  "language_info": {
   "codemirror_mode": {
    "name": "ipython",
    "version": 3
   },
   "file_extension": ".py",
   "mimetype": "text/x-python",
   "name": "python",
   "nbconvert_exporter": "python",
   "pygments_lexer": "ipython3",
   "version": "3.11.7"
  }
 },
 "nbformat": 4,
 "nbformat_minor": 2
}
